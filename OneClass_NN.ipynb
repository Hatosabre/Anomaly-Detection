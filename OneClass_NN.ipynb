{
  "nbformat": 4,
  "nbformat_minor": 0,
  "metadata": {
    "colab": {
      "name": "OneClass NN",
      "provenance": [],
      "collapsed_sections": []
    },
    "kernelspec": {
      "name": "python3",
      "display_name": "Python 3"
    },
    "language_info": {
      "name": "python"
    },
    "accelerator": "GPU"
  },
  "cells": [
    {
      "cell_type": "code",
      "source": [
        ""
      ],
      "metadata": {
        "colab": {
          "base_uri": "https://localhost:8080/"
        },
        "id": "aDdfa7TTreew",
        "outputId": "51cef540-8ce9-4af7-d067-6b6cfdfe2051"
      },
      "execution_count": null,
      "outputs": [
        {
          "output_type": "stream",
          "name": "stdout",
          "text": [
            "Cloning into 'deviation-network'...\n",
            "remote: Enumerating objects: 47, done.\u001b[K\n",
            "remote: Counting objects: 100% (47/47), done.\u001b[K\n",
            "remote: Compressing objects: 100% (44/44), done.\u001b[K\n",
            "remote: Total 47 (delta 18), reused 2 (delta 0), pack-reused 0\u001b[K\n",
            "Unpacking objects: 100% (47/47), done.\n"
          ]
        }
      ]
    },
    {
      "cell_type": "markdown",
      "source": [
        "# 環境の準備"
      ],
      "metadata": {
        "id": "QC3j3Kmnv7T6"
      }
    },
    {
      "cell_type": "code",
      "source": [
        "# data hundling\n",
        "import pandas as pd\n",
        "import numpy as np\n",
        "from scipy.sparse import vstack, csc_matrix\n",
        "import logging\n",
        "import time\n",
        "# sklearn\n",
        "from sklearn.model_selection import train_test_split\n",
        "from sklearn.metrics import auc,roc_curve, precision_recall_curve, average_precision_score, roc_auc_score\n",
        "# pytorch\n",
        "import torch\n",
        "import torch.nn as nn\n",
        "from torch.utils.data import Dataset\n",
        "from torch.utils.data import DataLoader\n",
        "from torch.optim import RMSprop\n",
        "# from torchsummaryX import summary\n",
        "# \n",
        "from tqdm.notebook import tqdm"
      ],
      "metadata": {
        "id": "lQsfmSnMujxg"
      },
      "execution_count": null,
      "outputs": []
    },
    {
      "cell_type": "markdown",
      "source": [
        "# モデルの定義"
      ],
      "metadata": {
        "id": "Ii6z1s1ryljt"
      }
    },
    {
      "cell_type": "code",
      "source": [
        "class OCNN(nn.Module):\n",
        "    def __init__(self):\n",
        "        super().__init__()\n",
        "        self.rep_dim = 8\n",
        "        self.linear1 = nn.Linear(21, 32)\n",
        "        self.linear2 = nn.Linear(32, 8)\n",
        "\n",
        "    def forward(self, x):\n",
        "        x = self.linear1(x)\n",
        "        x = self.linear2(x)\n",
        "        return x"
      ],
      "metadata": {
        "id": "Wp4-84A1zBZ7"
      },
      "execution_count": null,
      "outputs": []
    },
    {
      "cell_type": "code",
      "source": [
        "class DeepSVDD(object):\n",
        "    \"\"\"A class for the Deep SVDD method.\n",
        "    Attributes:\n",
        "        objective: A string specifying the Deep SVDD objective (either 'one-class' or 'soft-boundary').\n",
        "        nu: Deep SVDD hyperparameter nu (must be 0 < nu <= 1).\n",
        "        R: Hypersphere radius R.\n",
        "        c: Hypersphere center c.\n",
        "        net_name: A string indicating the name of the neural network to use.\n",
        "        net: The neural network \\phi.\n",
        "        ae_net: The autoencoder network corresponding to \\phi for network weights pretraining.\n",
        "        trainer: DeepSVDDTrainer to train a Deep SVDD model.\n",
        "        optimizer_name: A string indicating the optimizer to use for training the Deep SVDD network.\n",
        "        ae_trainer: AETrainer to train an autoencoder in pretraining.\n",
        "        ae_optimizer_name: A string indicating the optimizer to use for pretraining the autoencoder.\n",
        "        results: A dictionary to save the results.\n",
        "    \"\"\"\n",
        "\n",
        "    def __init__(self, objective: str = 'one-class', nu: float = 0.1):\n",
        "        \"\"\"Inits DeepSVDD with one of the two objectives and hyperparameter nu.\"\"\"\n",
        "\n",
        "        assert objective in ('one-class', 'soft-boundary'), \"Objective must be either 'one-class' or 'soft-boundary'.\"\n",
        "        self.objective = objective\n",
        "        assert (0 < nu) & (nu <= 1), \"For hyperparameter nu, it must hold: 0 < nu <= 1.\"\n",
        "        self.nu = nu\n",
        "        self.R = 0.0  # hypersphere radius R\n",
        "        self.c = None  # hypersphere center c\n",
        "\n",
        "        self.net_name = None\n",
        "        self.net = None  # neural network \\phi\n",
        "\n",
        "        self.trainer = None\n",
        "        self.optimizer_name = None\n",
        "\n",
        "        self.ae_net = None  # autoencoder network for pretraining\n",
        "        self.ae_trainer = None\n",
        "        self.ae_optimizer_name = None\n",
        "\n",
        "        self.results = {\n",
        "            'train_time': None,\n",
        "            'test_auc': None,\n",
        "            'test_time': None,\n",
        "            'test_scores': None,\n",
        "        }\n",
        "\n",
        "    def set_network(self, net_name):\n",
        "        \"\"\"Builds the neural network \\phi.\"\"\"\n",
        "        self.net_name = net_name\n",
        "        self.net = OCNN()\n",
        "\n",
        "    def train(self, dataset, optimizer_name: str = 'adam', lr: float = 0.001, n_epochs: int = 50,\n",
        "              lr_milestones: tuple = (), batch_size: int = 128, weight_decay: float = 1e-6, device: str = 'cuda',\n",
        "              n_jobs_dataloader: int = 0):\n",
        "        \"\"\"Trains the Deep SVDD model on the training data.\"\"\"\n",
        "\n",
        "        self.optimizer_name = optimizer_name\n",
        "        self.trainer = DeepSVDDTrainer(self.objective, self.R, self.c, self.nu, optimizer_name, lr=lr,\n",
        "                                       n_epochs=n_epochs, lr_milestones=lr_milestones, batch_size=batch_size,\n",
        "                                       weight_decay=weight_decay, device=device, n_jobs_dataloader=n_jobs_dataloader)\n",
        "        # Get the model\n",
        "        self.net = self.trainer.train(dataset, self.net)\n",
        "        self.R = float(self.trainer.R.cpu().data.numpy())  # get float\n",
        "        self.c = self.trainer.c.cpu().data.numpy().tolist()  # get list\n",
        "        self.results['train_time'] = self.trainer.train_time\n",
        "\n",
        "    def test(self, dataset, device: str = 'cuda', n_jobs_dataloader: int = 0):\n",
        "        \"\"\"Tests the Deep SVDD model on the test data.\"\"\"\n",
        "\n",
        "        if self.trainer is None:\n",
        "            self.trainer = DeepSVDDTrainer(self.objective, self.R, self.c, self.nu,\n",
        "                                           device=device, n_jobs_dataloader=n_jobs_dataloader)\n",
        "\n",
        "        self.trainer.test(dataset, self.net)\n",
        "        # Get results\n",
        "        self.results['test_auc'] = self.trainer.test_auc\n",
        "        self.results['test_time'] = self.trainer.test_time\n",
        "        self.results['test_scores'] = self.trainer.test_scores\n",
        "\n",
        "    def pretrain(self, dataset, optimizer_name: str = 'adam', lr: float = 0.001, n_epochs: int = 100,\n",
        "                 lr_milestones: tuple = (), batch_size: int = 128, weight_decay: float = 1e-6, device: str = 'cuda',\n",
        "                 n_jobs_dataloader: int = 0):\n",
        "        \"\"\"Pretrains the weights for the Deep SVDD network \\phi via autoencoder.\"\"\"\n",
        "\n",
        "        self.ae_net = build_autoencoder(self.net_name)\n",
        "        self.ae_optimizer_name = optimizer_name\n",
        "        self.ae_trainer = AETrainer(optimizer_name, lr=lr, n_epochs=n_epochs, lr_milestones=lr_milestones,\n",
        "                                    batch_size=batch_size, weight_decay=weight_decay, device=device,\n",
        "                                    n_jobs_dataloader=n_jobs_dataloader)\n",
        "        self.ae_net = self.ae_trainer.train(dataset, self.ae_net)\n",
        "        self.ae_trainer.test(dataset, self.ae_net)\n",
        "        self.init_network_weights_from_pretraining()\n",
        "\n",
        "    def init_network_weights_from_pretraining(self):\n",
        "        \"\"\"Initialize the Deep SVDD network weights from the encoder weights of the pretraining autoencoder.\"\"\"\n",
        "\n",
        "        net_dict = self.net.state_dict()\n",
        "        ae_net_dict = self.ae_net.state_dict()\n",
        "\n",
        "        # Filter out decoder network keys\n",
        "        ae_net_dict = {k: v for k, v in ae_net_dict.items() if k in net_dict}\n",
        "        # Overwrite values in the existing state_dict\n",
        "        net_dict.update(ae_net_dict)\n",
        "        # Load the new state_dict\n",
        "        self.net.load_state_dict(net_dict)\n",
        "\n",
        "    def save_model(self, export_model, save_ae=True):\n",
        "        \"\"\"Save Deep SVDD model to export_model.\"\"\"\n",
        "\n",
        "        net_dict = self.net.state_dict()\n",
        "        ae_net_dict = self.ae_net.state_dict() if save_ae else None\n",
        "\n",
        "        torch.save({'R': self.R,\n",
        "                    'c': self.c,\n",
        "                    'net_dict': net_dict,\n",
        "                    'ae_net_dict': ae_net_dict}, export_model)\n",
        "\n",
        "    def load_model(self, model_path, load_ae=False):\n",
        "        \"\"\"Load Deep SVDD model from model_path.\"\"\"\n",
        "\n",
        "        model_dict = torch.load(model_path)\n",
        "\n",
        "        self.R = model_dict['R']\n",
        "        self.c = model_dict['c']\n",
        "        self.net.load_state_dict(model_dict['net_dict'])\n",
        "        if load_ae:\n",
        "            if self.ae_net is None:\n",
        "                self.ae_net = build_autoencoder(self.net_name)\n",
        "            self.ae_net.load_state_dict(model_dict['ae_net_dict'])"
      ],
      "metadata": {
        "id": "8cgAVjnHylJe"
      },
      "execution_count": null,
      "outputs": []
    },
    {
      "cell_type": "code",
      "source": [
        "import torch.optim as optim"
      ],
      "metadata": {
        "id": "khbqJD_cNFLH"
      },
      "execution_count": null,
      "outputs": []
    },
    {
      "cell_type": "code",
      "source": [
        "class DeepSVDDTrainer:\n",
        "\n",
        "    def __init__(self, objective, R, c, nu: float, optimizer_name: str = 'adam', lr: float = 0.001, n_epochs: int = 150,\n",
        "                 lr_milestones: tuple = (), batch_size: int = 128, weight_decay: float = 1e-6, device: str = 'cuda',\n",
        "                 n_jobs_dataloader: int = 0):\n",
        "        super().__init__()\n",
        "        self.optimizer_name = optimizer_name\n",
        "        self.lr = lr\n",
        "        self.n_epochs = n_epochs\n",
        "        self.lr_milestones = lr_milestones\n",
        "        self.batch_size = batch_size\n",
        "        self.weight_decay = weight_decay\n",
        "        self.device = device\n",
        "        self.n_jobs_dataloader = n_jobs_dataloader\n",
        "\n",
        "        assert objective in ('one-class', 'soft-boundary'), \"Objective must be either 'one-class' or 'soft-boundary'.\"\n",
        "        self.objective = objective\n",
        "\n",
        "        # Deep SVDD parameters\n",
        "        self.R = torch.tensor(R, device=self.device)  # radius R initialized with 0 by default.\n",
        "        self.c = torch.tensor(c, device=self.device) if c is not None else None\n",
        "        self.nu = nu\n",
        "\n",
        "        # Optimization parameters\n",
        "        self.warm_up_n_epochs = 10  # number of training epochs for soft-boundary Deep SVDD before radius R gets updated\n",
        "\n",
        "        # Results\n",
        "        self.train_time = None\n",
        "        self.test_auc = None\n",
        "        self.test_time = None\n",
        "        self.test_scores = None\n",
        "\n",
        "    def train(self, dataset, net):\n",
        "        logger = logging.getLogger()\n",
        "\n",
        "        # Set device for network\n",
        "        net = net.to(self.device)\n",
        "\n",
        "        # Get train data loader\n",
        "        train_loader = DataLoader(dataset, batch_size=self.batch_size, num_workers=self.n_jobs_dataloader)\n",
        "\n",
        "        # Set optimizer (Adam optimizer for now)\n",
        "        optimizer = optim.Adam(net.parameters(), lr=self.lr, weight_decay=self.weight_decay,\n",
        "                               amsgrad=self.optimizer_name == 'amsgrad')\n",
        "\n",
        "        # Set learning rate scheduler\n",
        "        scheduler = optim.lr_scheduler.MultiStepLR(optimizer, milestones=self.lr_milestones, gamma=0.1)\n",
        "\n",
        "        # Initialize hypersphere center c (if c not loaded)\n",
        "        if self.c is None:\n",
        "            logger.info('Initializing center c...')\n",
        "            self.c = self.init_center_c(train_loader, net)\n",
        "            logger.info('Center c initialized.')\n",
        "\n",
        "        # Training\n",
        "        logger.info('Starting training...')\n",
        "        start_time = time.time()\n",
        "        net.train()\n",
        "        for epoch in range(self.n_epochs):\n",
        "\n",
        "            scheduler.step()\n",
        "            if epoch in self.lr_milestones:\n",
        "                logger.info('  LR scheduler: new learning rate is %g' % float(scheduler.get_lr()[0]))\n",
        "\n",
        "            loss_epoch = 0.0\n",
        "            n_batches = 0\n",
        "            epoch_start_time = time.time()\n",
        "            for data in train_loader:\n",
        "                inputs = data[\"x\"]\n",
        "                inputs = inputs.to(self.device)\n",
        "\n",
        "                # Zero the network parameter gradients\n",
        "                optimizer.zero_grad()\n",
        "\n",
        "                # Update network parameters via backpropagation: forward + backward + optimize\n",
        "                outputs = net(inputs)\n",
        "                dist = torch.sum((outputs - self.c) ** 2, dim=1)\n",
        "                if self.objective == 'soft-boundary':\n",
        "                    scores = dist - self.R ** 2\n",
        "                    loss = self.R ** 2 + (1 / self.nu) * torch.mean(torch.max(torch.zeros_like(scores), scores))\n",
        "                else:\n",
        "                    loss = torch.mean(dist)\n",
        "                loss.backward()\n",
        "                optimizer.step()\n",
        "\n",
        "                # Update hypersphere radius R on mini-batch distances\n",
        "                if (self.objective == 'soft-boundary') and (epoch >= self.warm_up_n_epochs):\n",
        "                    self.R.data = torch.tensor(get_radius(dist, self.nu), device=self.device)\n",
        "\n",
        "                loss_epoch += loss.item()\n",
        "                n_batches += 1\n",
        "\n",
        "            # log epoch statistics\n",
        "            epoch_train_time = time.time() - epoch_start_time\n",
        "            print('  Epoch {}/{}\\t Time: {:.3f}\\t Loss: {:.8f}'\n",
        "                        .format(epoch + 1, self.n_epochs, epoch_train_time, loss_epoch / n_batches))\n",
        "\n",
        "        self.train_time = time.time() - start_time\n",
        "        logger.info('Training time: %.3f' % self.train_time)\n",
        "\n",
        "        logger.info('Finished training.')\n",
        "\n",
        "        return net\n",
        "\n",
        "    def test(self, dataset, net):\n",
        "        logger = logging.getLogger()\n",
        "\n",
        "        # Set device for network\n",
        "        net = net.to(self.device)\n",
        "\n",
        "        # Get test data loader\n",
        "        test_loader = DataLoader(dataset, batch_size=self.batch_size, num_workers=self.n_jobs_dataloader)\n",
        "\n",
        "        # Testing\n",
        "        logger.info('Starting testing...')\n",
        "        start_time = time.time()\n",
        "        idx_label_score = []\n",
        "        net.eval()\n",
        "        with torch.no_grad():\n",
        "            for data in test_loader:\n",
        "                inputs = data[\"x\"]\n",
        "                labels = data[\"y\"]\n",
        "                inputs = inputs.to(self.device)\n",
        "                outputs = net(inputs)\n",
        "                dist = torch.sum((outputs - self.c) ** 2, dim=1)\n",
        "                if self.objective == 'soft-boundary':\n",
        "                    scores = dist - self.R ** 2\n",
        "                else:\n",
        "                    scores = dist\n",
        "\n",
        "                # Save triples of (idx, label, score) in a list\n",
        "                idx_label_score += list(zip(labels.cpu().data.numpy().tolist(),\n",
        "                                            scores.cpu().data.numpy().tolist()))\n",
        "\n",
        "        self.test_time = time.time() - start_time\n",
        "        logger.info('Testing time: %.3f' % self.test_time)\n",
        "\n",
        "        self.test_scores = idx_label_score\n",
        "\n",
        "        # Compute AUC\n",
        "        labels, scores = zip(*idx_label_score)\n",
        "        labels = np.array(labels)\n",
        "        scores = np.array(scores)\n",
        "\n",
        "        self.test_auc = roc_auc_score(labels, scores)\n",
        "        logger.info('Test set AUC: {:.2f}%'.format(100. * self.test_auc))\n",
        "\n",
        "        logger.info('Finished testing.')\n",
        "\n",
        "    def init_center_c(self, train_loader, net, eps=0.1):\n",
        "        \"\"\"Initialize hypersphere center c as the mean from an initial forward pass on the data.\"\"\"\n",
        "        n_samples = 0\n",
        "        c = torch.zeros(net.rep_dim, device=self.device)\n",
        "\n",
        "        net.eval()\n",
        "        with torch.no_grad():\n",
        "            for data in train_loader:\n",
        "                # get the inputs of the batch\n",
        "                inputs = data[\"x\"]\n",
        "                inputs = inputs.to(self.device)\n",
        "                outputs = net(inputs)\n",
        "                n_samples += outputs.shape[0]\n",
        "                c += torch.sum(outputs, dim=0)\n",
        "\n",
        "        c /= n_samples\n",
        "\n",
        "        # If c_i is too close to 0, set to +-eps. Reason: a zero unit can be trivially matched with zero weights.\n",
        "        c[(abs(c) < eps) & (c < 0)] = -eps\n",
        "        c[(abs(c) < eps) & (c > 0)] = eps\n",
        "\n",
        "        return c\n",
        "\n",
        "\n",
        "def get_radius(dist: torch.Tensor, nu: float):\n",
        "    \"\"\"Optimally solve for radius R via the (1-nu)-quantile of distances.\"\"\"\n",
        "    return np.quantile(np.sqrt(dist.clone().data.cpu().numpy()), 1 - nu)"
      ],
      "metadata": {
        "id": "M1hLeKFQ4m-5"
      },
      "execution_count": null,
      "outputs": []
    },
    {
      "cell_type": "markdown",
      "source": [
        "# Datasetの定義"
      ],
      "metadata": {
        "id": "upNW--3Mv_Di"
      }
    },
    {
      "cell_type": "code",
      "source": [
        "class DevDataset(Dataset):\n",
        "  def __init__(self, x, y=None, mode=\"train\"):\n",
        "    self.x = x\n",
        "    self.y = y\n",
        "    self.mode = mode\n",
        "  \n",
        "  def __len__(self):\n",
        "    return len(self.x)\n",
        "  \n",
        "  def __getitem__(self, index):\n",
        "    item_x = self.x[index]\n",
        "    if self.mode == \"train\":\n",
        "      item_y = self.y[index]\n",
        "\n",
        "      return {\n",
        "          \"x\": torch.tensor(item_x, dtype=torch.float32),\n",
        "          \"y\": torch.tensor(item_y, dtype=torch.float32)\n",
        "      }\n",
        "    else:\n",
        "      return {\n",
        "          \"x\": torch.tensor(item_x, dtype=torch.float32),\n",
        "      }"
      ],
      "metadata": {
        "id": "boESXAm8v-lY"
      },
      "execution_count": null,
      "outputs": []
    },
    {
      "cell_type": "code",
      "source": [
        ""
      ],
      "metadata": {
        "id": "XBTnkK8Av0Eo"
      },
      "execution_count": null,
      "outputs": []
    },
    {
      "cell_type": "markdown",
      "source": [
        "# パラメータ設定"
      ],
      "metadata": {
        "id": "-Rn9-d_iwQ4C"
      }
    },
    {
      "cell_type": "code",
      "source": [
        "!git clone https://github.com/GuansongPang/deviation-network.git"
      ],
      "metadata": {
        "id": "GS1XSVuHHA4L"
      },
      "execution_count": null,
      "outputs": []
    },
    {
      "cell_type": "code",
      "source": [
        "DATA_PATH = \"/content/deviation-network/dataset/annthyroid_21feat_normalised.csv\"\n",
        "\n",
        "NAME = \"annthyroid\"\n",
        "SEED = 0\n",
        "MAX_INT = np.iinfo(np.int32).max\n",
        "NETWORK_DEPTH = 2\n",
        "RUNS = 10\n",
        "CONT_RATE = 0.02\n",
        "KNOWN_OUTLIERS = 30\n",
        "EPOCHS = 50\n",
        "BATCH_SIZE = 512"
      ],
      "metadata": {
        "id": "0Umu3ZB0wGCO"
      },
      "execution_count": null,
      "outputs": []
    },
    {
      "cell_type": "markdown",
      "source": [
        "# データロード"
      ],
      "metadata": {
        "id": "UuXfVwyRwUwp"
      }
    },
    {
      "cell_type": "code",
      "source": [
        "train_df = pd.read_csv(DATA_PATH)\n",
        "train_df.head()"
      ],
      "metadata": {
        "colab": {
          "base_uri": "https://localhost:8080/",
          "height": 270
        },
        "id": "dOTpiu4nwT-k",
        "outputId": "cb93c144-9f8d-4b8e-950c-ac68ca0dceac"
      },
      "execution_count": null,
      "outputs": [
        {
          "output_type": "execute_result",
          "data": {
            "text/html": [
              "\n",
              "  <div id=\"df-35dc271b-8125-4cd0-b177-933549c72ebf\">\n",
              "    <div class=\"colab-df-container\">\n",
              "      <div>\n",
              "<style scoped>\n",
              "    .dataframe tbody tr th:only-of-type {\n",
              "        vertical-align: middle;\n",
              "    }\n",
              "\n",
              "    .dataframe tbody tr th {\n",
              "        vertical-align: top;\n",
              "    }\n",
              "\n",
              "    .dataframe thead th {\n",
              "        text-align: right;\n",
              "    }\n",
              "</style>\n",
              "<table border=\"1\" class=\"dataframe\">\n",
              "  <thead>\n",
              "    <tr style=\"text-align: right;\">\n",
              "      <th></th>\n",
              "      <th>Dim_0</th>\n",
              "      <th>Dim_1=0</th>\n",
              "      <th>Dim_2=0</th>\n",
              "      <th>Dim_3=0</th>\n",
              "      <th>Dim_4=0</th>\n",
              "      <th>Dim_5=0</th>\n",
              "      <th>Dim_6=0</th>\n",
              "      <th>Dim_7=0</th>\n",
              "      <th>Dim_8=0</th>\n",
              "      <th>Dim_9=0</th>\n",
              "      <th>Dim_10=0</th>\n",
              "      <th>Dim_11=0</th>\n",
              "      <th>Dim_12=0</th>\n",
              "      <th>Dim_13=0</th>\n",
              "      <th>Dim_14=0</th>\n",
              "      <th>Dim_15=0</th>\n",
              "      <th>Dim_16</th>\n",
              "      <th>Dim_17</th>\n",
              "      <th>Dim_18</th>\n",
              "      <th>Dim_19</th>\n",
              "      <th>Dim_20</th>\n",
              "      <th>class</th>\n",
              "    </tr>\n",
              "  </thead>\n",
              "  <tbody>\n",
              "    <tr>\n",
              "      <th>0</th>\n",
              "      <td>0.750000</td>\n",
              "      <td>1</td>\n",
              "      <td>0</td>\n",
              "      <td>1</td>\n",
              "      <td>1</td>\n",
              "      <td>1</td>\n",
              "      <td>1</td>\n",
              "      <td>1</td>\n",
              "      <td>0</td>\n",
              "      <td>1</td>\n",
              "      <td>1</td>\n",
              "      <td>1</td>\n",
              "      <td>1</td>\n",
              "      <td>1</td>\n",
              "      <td>1</td>\n",
              "      <td>1</td>\n",
              "      <td>0.001132</td>\n",
              "      <td>0.080780</td>\n",
              "      <td>0.197324</td>\n",
              "      <td>0.300926</td>\n",
              "      <td>0.225000</td>\n",
              "      <td>0</td>\n",
              "    </tr>\n",
              "    <tr>\n",
              "      <th>1</th>\n",
              "      <td>0.239583</td>\n",
              "      <td>1</td>\n",
              "      <td>1</td>\n",
              "      <td>1</td>\n",
              "      <td>1</td>\n",
              "      <td>1</td>\n",
              "      <td>1</td>\n",
              "      <td>1</td>\n",
              "      <td>1</td>\n",
              "      <td>1</td>\n",
              "      <td>1</td>\n",
              "      <td>1</td>\n",
              "      <td>1</td>\n",
              "      <td>1</td>\n",
              "      <td>1</td>\n",
              "      <td>1</td>\n",
              "      <td>0.000472</td>\n",
              "      <td>0.164345</td>\n",
              "      <td>0.235786</td>\n",
              "      <td>0.537037</td>\n",
              "      <td>0.165625</td>\n",
              "      <td>0</td>\n",
              "    </tr>\n",
              "    <tr>\n",
              "      <th>2</th>\n",
              "      <td>0.479167</td>\n",
              "      <td>1</td>\n",
              "      <td>1</td>\n",
              "      <td>1</td>\n",
              "      <td>1</td>\n",
              "      <td>1</td>\n",
              "      <td>1</td>\n",
              "      <td>1</td>\n",
              "      <td>1</td>\n",
              "      <td>1</td>\n",
              "      <td>1</td>\n",
              "      <td>1</td>\n",
              "      <td>1</td>\n",
              "      <td>1</td>\n",
              "      <td>1</td>\n",
              "      <td>1</td>\n",
              "      <td>0.003585</td>\n",
              "      <td>0.130919</td>\n",
              "      <td>0.167224</td>\n",
              "      <td>0.527778</td>\n",
              "      <td>0.118750</td>\n",
              "      <td>0</td>\n",
              "    </tr>\n",
              "    <tr>\n",
              "      <th>3</th>\n",
              "      <td>0.656250</td>\n",
              "      <td>0</td>\n",
              "      <td>1</td>\n",
              "      <td>1</td>\n",
              "      <td>1</td>\n",
              "      <td>1</td>\n",
              "      <td>1</td>\n",
              "      <td>1</td>\n",
              "      <td>1</td>\n",
              "      <td>1</td>\n",
              "      <td>1</td>\n",
              "      <td>1</td>\n",
              "      <td>1</td>\n",
              "      <td>1</td>\n",
              "      <td>1</td>\n",
              "      <td>1</td>\n",
              "      <td>0.001698</td>\n",
              "      <td>0.091922</td>\n",
              "      <td>0.125418</td>\n",
              "      <td>0.337963</td>\n",
              "      <td>0.129688</td>\n",
              "      <td>0</td>\n",
              "    </tr>\n",
              "    <tr>\n",
              "      <th>4</th>\n",
              "      <td>0.229167</td>\n",
              "      <td>1</td>\n",
              "      <td>1</td>\n",
              "      <td>1</td>\n",
              "      <td>1</td>\n",
              "      <td>1</td>\n",
              "      <td>1</td>\n",
              "      <td>1</td>\n",
              "      <td>1</td>\n",
              "      <td>1</td>\n",
              "      <td>1</td>\n",
              "      <td>1</td>\n",
              "      <td>1</td>\n",
              "      <td>1</td>\n",
              "      <td>1</td>\n",
              "      <td>1</td>\n",
              "      <td>0.000472</td>\n",
              "      <td>0.142061</td>\n",
              "      <td>0.229097</td>\n",
              "      <td>0.337963</td>\n",
              "      <td>0.235938</td>\n",
              "      <td>0</td>\n",
              "    </tr>\n",
              "  </tbody>\n",
              "</table>\n",
              "</div>\n",
              "      <button class=\"colab-df-convert\" onclick=\"convertToInteractive('df-35dc271b-8125-4cd0-b177-933549c72ebf')\"\n",
              "              title=\"Convert this dataframe to an interactive table.\"\n",
              "              style=\"display:none;\">\n",
              "        \n",
              "  <svg xmlns=\"http://www.w3.org/2000/svg\" height=\"24px\"viewBox=\"0 0 24 24\"\n",
              "       width=\"24px\">\n",
              "    <path d=\"M0 0h24v24H0V0z\" fill=\"none\"/>\n",
              "    <path d=\"M18.56 5.44l.94 2.06.94-2.06 2.06-.94-2.06-.94-.94-2.06-.94 2.06-2.06.94zm-11 1L8.5 8.5l.94-2.06 2.06-.94-2.06-.94L8.5 2.5l-.94 2.06-2.06.94zm10 10l.94 2.06.94-2.06 2.06-.94-2.06-.94-.94-2.06-.94 2.06-2.06.94z\"/><path d=\"M17.41 7.96l-1.37-1.37c-.4-.4-.92-.59-1.43-.59-.52 0-1.04.2-1.43.59L10.3 9.45l-7.72 7.72c-.78.78-.78 2.05 0 2.83L4 21.41c.39.39.9.59 1.41.59.51 0 1.02-.2 1.41-.59l7.78-7.78 2.81-2.81c.8-.78.8-2.07 0-2.86zM5.41 20L4 18.59l7.72-7.72 1.47 1.35L5.41 20z\"/>\n",
              "  </svg>\n",
              "      </button>\n",
              "      \n",
              "  <style>\n",
              "    .colab-df-container {\n",
              "      display:flex;\n",
              "      flex-wrap:wrap;\n",
              "      gap: 12px;\n",
              "    }\n",
              "\n",
              "    .colab-df-convert {\n",
              "      background-color: #E8F0FE;\n",
              "      border: none;\n",
              "      border-radius: 50%;\n",
              "      cursor: pointer;\n",
              "      display: none;\n",
              "      fill: #1967D2;\n",
              "      height: 32px;\n",
              "      padding: 0 0 0 0;\n",
              "      width: 32px;\n",
              "    }\n",
              "\n",
              "    .colab-df-convert:hover {\n",
              "      background-color: #E2EBFA;\n",
              "      box-shadow: 0px 1px 2px rgba(60, 64, 67, 0.3), 0px 1px 3px 1px rgba(60, 64, 67, 0.15);\n",
              "      fill: #174EA6;\n",
              "    }\n",
              "\n",
              "    [theme=dark] .colab-df-convert {\n",
              "      background-color: #3B4455;\n",
              "      fill: #D2E3FC;\n",
              "    }\n",
              "\n",
              "    [theme=dark] .colab-df-convert:hover {\n",
              "      background-color: #434B5C;\n",
              "      box-shadow: 0px 1px 3px 1px rgba(0, 0, 0, 0.15);\n",
              "      filter: drop-shadow(0px 1px 2px rgba(0, 0, 0, 0.3));\n",
              "      fill: #FFFFFF;\n",
              "    }\n",
              "  </style>\n",
              "\n",
              "      <script>\n",
              "        const buttonEl =\n",
              "          document.querySelector('#df-35dc271b-8125-4cd0-b177-933549c72ebf button.colab-df-convert');\n",
              "        buttonEl.style.display =\n",
              "          google.colab.kernel.accessAllowed ? 'block' : 'none';\n",
              "\n",
              "        async function convertToInteractive(key) {\n",
              "          const element = document.querySelector('#df-35dc271b-8125-4cd0-b177-933549c72ebf');\n",
              "          const dataTable =\n",
              "            await google.colab.kernel.invokeFunction('convertToInteractive',\n",
              "                                                     [key], {});\n",
              "          if (!dataTable) return;\n",
              "\n",
              "          const docLinkHtml = 'Like what you see? Visit the ' +\n",
              "            '<a target=\"_blank\" href=https://colab.research.google.com/notebooks/data_table.ipynb>data table notebook</a>'\n",
              "            + ' to learn more about interactive tables.';\n",
              "          element.innerHTML = '';\n",
              "          dataTable['output_type'] = 'display_data';\n",
              "          await google.colab.output.renderOutput(dataTable, element);\n",
              "          const docLink = document.createElement('div');\n",
              "          docLink.innerHTML = docLinkHtml;\n",
              "          element.appendChild(docLink);\n",
              "        }\n",
              "      </script>\n",
              "    </div>\n",
              "  </div>\n",
              "  "
            ],
            "text/plain": [
              "      Dim_0  Dim_1=0  Dim_2=0  Dim_3=0  ...    Dim_18    Dim_19    Dim_20  class\n",
              "0  0.750000        1        0        1  ...  0.197324  0.300926  0.225000      0\n",
              "1  0.239583        1        1        1  ...  0.235786  0.537037  0.165625      0\n",
              "2  0.479167        1        1        1  ...  0.167224  0.527778  0.118750      0\n",
              "3  0.656250        0        1        1  ...  0.125418  0.337963  0.129688      0\n",
              "4  0.229167        1        1        1  ...  0.229097  0.337963  0.235938      0\n",
              "\n",
              "[5 rows x 22 columns]"
            ]
          },
          "metadata": {},
          "execution_count": 9
        }
      ]
    },
    {
      "cell_type": "code",
      "source": [
        "train_df[\"class\"].value_counts()"
      ],
      "metadata": {
        "colab": {
          "base_uri": "https://localhost:8080/"
        },
        "id": "6xK-1PVBwYxE",
        "outputId": "c58a0d1b-1ac2-463b-b36c-9452ccf22370"
      },
      "execution_count": null,
      "outputs": [
        {
          "output_type": "execute_result",
          "data": {
            "text/plain": [
              "0    6666\n",
              "1     534\n",
              "Name: class, dtype: int64"
            ]
          },
          "metadata": {},
          "execution_count": 10
        }
      ]
    },
    {
      "cell_type": "code",
      "source": [
        "train = pd.concat([\n",
        "      train_df[train_df[\"class\"] == 0].sample(n=6666-500),\n",
        "      train_df[train_df[\"class\"] == 1].sample(n=534-500),\n",
        "])\n",
        "valid = train_df[~train_df.index.isin(train.index)]"
      ],
      "metadata": {
        "id": "mzxuwQbcwd2_"
      },
      "execution_count": null,
      "outputs": []
    },
    {
      "cell_type": "markdown",
      "source": [
        "# Training"
      ],
      "metadata": {
        "id": "sIxyraOaHEsH"
      }
    },
    {
      "cell_type": "code",
      "source": [
        "train_dataset = DevDataset(train.drop(\"class\", axis=1).values, train[\"class\"].values)\n",
        "valid_dataset = DevDataset(valid.drop(\"class\", axis=1).values, valid[\"class\"].values)"
      ],
      "metadata": {
        "id": "Fentxgqjwe5l"
      },
      "execution_count": null,
      "outputs": []
    },
    {
      "cell_type": "code",
      "source": [
        "train_dataloader = DataLoader(train_dataset, batch_size=BATCH_SIZE, shuffle=True, pin_memory=True)\n",
        "valid_dataloader = DataLoader(valid_dataset, batch_size=BATCH_SIZE, shuffle=False, pin_memory=True)"
      ],
      "metadata": {
        "id": "_ZthKSNzxG9m"
      },
      "execution_count": null,
      "outputs": []
    },
    {
      "cell_type": "code",
      "source": [
        "deep_SVDD = DeepSVDD(\"soft-boundary\", 0.1)"
      ],
      "metadata": {
        "id": "l0aygXjIxbkY"
      },
      "execution_count": null,
      "outputs": []
    },
    {
      "cell_type": "code",
      "source": [
        "deep_SVDD.set_network(\"\")"
      ],
      "metadata": {
        "id": "5zNU-VFU38yi"
      },
      "execution_count": null,
      "outputs": []
    },
    {
      "cell_type": "code",
      "source": [
        ""
      ],
      "metadata": {
        "id": "pP-gXG72K7WV"
      },
      "execution_count": null,
      "outputs": []
    },
    {
      "cell_type": "code",
      "source": [
        "deep_SVDD.train(train_dataset,\n",
        "                    optimizer_name=\"adam\",\n",
        "                    lr=1e-4,\n",
        "                    n_epochs=150,\n",
        "                    lr_milestones=[0],\n",
        "                    batch_size=64,\n",
        "                    weight_decay=5e-6,\n",
        "                    device=\"cuda\",\n",
        "                    n_jobs_dataloader=0\n",
        "                )"
      ],
      "metadata": {
        "colab": {
          "base_uri": "https://localhost:8080/"
        },
        "id": "ULuHoTv04ArS",
        "outputId": "090d9499-2bfd-4548-9a2e-d89f1ded2096"
      },
      "execution_count": null,
      "outputs": [
        {
          "output_type": "stream",
          "name": "stderr",
          "text": [
            "/usr/local/lib/python3.7/dist-packages/torch/optim/lr_scheduler.py:134: UserWarning: Detected call of `lr_scheduler.step()` before `optimizer.step()`. In PyTorch 1.1.0 and later, you should call them in the opposite order: `optimizer.step()` before `lr_scheduler.step()`.  Failure to do this will result in PyTorch skipping the first value of the learning rate schedule. See more details at https://pytorch.org/docs/stable/optim.html#how-to-adjust-learning-rate\n",
            "  \"https://pytorch.org/docs/stable/optim.html#how-to-adjust-learning-rate\", UserWarning)\n",
            "/usr/local/lib/python3.7/dist-packages/torch/optim/lr_scheduler.py:417: UserWarning: To get the last learning rate computed by the scheduler, please use `get_last_lr()`.\n",
            "  \"please use `get_last_lr()`.\", UserWarning)\n"
          ]
        },
        {
          "output_type": "stream",
          "name": "stdout",
          "text": [
            "  Epoch 1/150\t Time: 0.328\t Loss: 0.30228230\n",
            "  Epoch 2/150\t Time: 0.223\t Loss: 0.29075219\n",
            "  Epoch 3/150\t Time: 0.195\t Loss: 0.27999009\n",
            "  Epoch 4/150\t Time: 0.198\t Loss: 0.26971058\n",
            "  Epoch 5/150\t Time: 0.187\t Loss: 0.25988428\n",
            "  Epoch 6/150\t Time: 0.192\t Loss: 0.25048597\n",
            "  Epoch 7/150\t Time: 0.187\t Loss: 0.24149256\n",
            "  Epoch 8/150\t Time: 0.192\t Loss: 0.23288287\n",
            "  Epoch 9/150\t Time: 0.197\t Loss: 0.22463699\n",
            "  Epoch 10/150\t Time: 0.200\t Loss: 0.21673656\n",
            "  Epoch 11/150\t Time: 0.215\t Loss: 0.07498399\n",
            "  Epoch 12/150\t Time: 0.215\t Loss: 0.06887182\n",
            "  Epoch 13/150\t Time: 0.226\t Loss: 0.06725720\n",
            "  Epoch 14/150\t Time: 0.224\t Loss: 0.06639982\n",
            "  Epoch 15/150\t Time: 0.223\t Loss: 0.06563490\n",
            "  Epoch 16/150\t Time: 0.213\t Loss: 0.06488837\n",
            "  Epoch 17/150\t Time: 0.221\t Loss: 0.06412995\n",
            "  Epoch 18/150\t Time: 0.221\t Loss: 0.06336875\n",
            "  Epoch 19/150\t Time: 0.234\t Loss: 0.06259845\n",
            "  Epoch 20/150\t Time: 0.212\t Loss: 0.06181441\n",
            "  Epoch 21/150\t Time: 0.217\t Loss: 0.06101538\n",
            "  Epoch 22/150\t Time: 0.215\t Loss: 0.06020285\n",
            "  Epoch 23/150\t Time: 0.217\t Loss: 0.05937775\n",
            "  Epoch 24/150\t Time: 0.222\t Loss: 0.05855756\n",
            "  Epoch 25/150\t Time: 0.218\t Loss: 0.05773361\n",
            "  Epoch 26/150\t Time: 0.212\t Loss: 0.05689777\n",
            "  Epoch 27/150\t Time: 0.216\t Loss: 0.05606800\n",
            "  Epoch 28/150\t Time: 0.231\t Loss: 0.05522987\n",
            "  Epoch 29/150\t Time: 0.220\t Loss: 0.05439177\n",
            "  Epoch 30/150\t Time: 0.218\t Loss: 0.05356198\n",
            "  Epoch 31/150\t Time: 0.227\t Loss: 0.05272483\n",
            "  Epoch 32/150\t Time: 0.218\t Loss: 0.05189425\n",
            "  Epoch 33/150\t Time: 0.216\t Loss: 0.05106989\n",
            "  Epoch 34/150\t Time: 0.220\t Loss: 0.05025134\n",
            "  Epoch 35/150\t Time: 0.217\t Loss: 0.04943607\n",
            "  Epoch 36/150\t Time: 0.264\t Loss: 0.04862173\n",
            "  Epoch 37/150\t Time: 0.250\t Loss: 0.04780940\n",
            "  Epoch 38/150\t Time: 0.215\t Loss: 0.04700744\n",
            "  Epoch 39/150\t Time: 0.213\t Loss: 0.04621393\n",
            "  Epoch 40/150\t Time: 0.220\t Loss: 0.04543125\n",
            "  Epoch 41/150\t Time: 0.217\t Loss: 0.04465938\n",
            "  Epoch 42/150\t Time: 0.219\t Loss: 0.04390114\n",
            "  Epoch 43/150\t Time: 0.214\t Loss: 0.04314572\n",
            "  Epoch 44/150\t Time: 0.217\t Loss: 0.04239601\n",
            "  Epoch 45/150\t Time: 0.213\t Loss: 0.04165526\n",
            "  Epoch 46/150\t Time: 0.219\t Loss: 0.04092289\n",
            "  Epoch 47/150\t Time: 0.220\t Loss: 0.04020199\n",
            "  Epoch 48/150\t Time: 0.224\t Loss: 0.03949028\n",
            "  Epoch 49/150\t Time: 0.214\t Loss: 0.03878483\n",
            "  Epoch 50/150\t Time: 0.220\t Loss: 0.03809735\n",
            "  Epoch 51/150\t Time: 0.219\t Loss: 0.03741199\n",
            "  Epoch 52/150\t Time: 0.219\t Loss: 0.03674322\n",
            "  Epoch 53/150\t Time: 0.211\t Loss: 0.03607996\n",
            "  Epoch 54/150\t Time: 0.213\t Loss: 0.03543203\n",
            "  Epoch 55/150\t Time: 0.210\t Loss: 0.03479078\n",
            "  Epoch 56/150\t Time: 0.221\t Loss: 0.03415489\n",
            "  Epoch 57/150\t Time: 0.210\t Loss: 0.03353619\n",
            "  Epoch 58/150\t Time: 0.215\t Loss: 0.03292258\n",
            "  Epoch 59/150\t Time: 0.212\t Loss: 0.03232183\n",
            "  Epoch 60/150\t Time: 0.218\t Loss: 0.03172731\n",
            "  Epoch 61/150\t Time: 0.216\t Loss: 0.03114807\n",
            "  Epoch 62/150\t Time: 0.221\t Loss: 0.03057750\n",
            "  Epoch 63/150\t Time: 0.213\t Loss: 0.03001818\n",
            "  Epoch 64/150\t Time: 0.213\t Loss: 0.02946426\n",
            "  Epoch 65/150\t Time: 0.226\t Loss: 0.02892182\n",
            "  Epoch 66/150\t Time: 0.216\t Loss: 0.02839204\n",
            "  Epoch 67/150\t Time: 0.211\t Loss: 0.02786923\n",
            "  Epoch 68/150\t Time: 0.212\t Loss: 0.02735836\n",
            "  Epoch 69/150\t Time: 0.219\t Loss: 0.02685678\n",
            "  Epoch 70/150\t Time: 0.225\t Loss: 0.02636711\n",
            "  Epoch 71/150\t Time: 0.210\t Loss: 0.02588700\n",
            "  Epoch 72/150\t Time: 0.213\t Loss: 0.02541269\n",
            "  Epoch 73/150\t Time: 0.217\t Loss: 0.02494604\n",
            "  Epoch 74/150\t Time: 0.217\t Loss: 0.02449215\n",
            "  Epoch 75/150\t Time: 0.219\t Loss: 0.02403920\n",
            "  Epoch 76/150\t Time: 0.223\t Loss: 0.02359458\n",
            "  Epoch 77/150\t Time: 0.222\t Loss: 0.02315474\n",
            "  Epoch 78/150\t Time: 0.219\t Loss: 0.02272557\n",
            "  Epoch 79/150\t Time: 0.230\t Loss: 0.02230409\n",
            "  Epoch 80/150\t Time: 0.221\t Loss: 0.02189179\n",
            "  Epoch 81/150\t Time: 0.217\t Loss: 0.02148614\n",
            "  Epoch 82/150\t Time: 0.213\t Loss: 0.02108837\n",
            "  Epoch 83/150\t Time: 0.224\t Loss: 0.02069268\n",
            "  Epoch 84/150\t Time: 0.225\t Loss: 0.02031018\n",
            "  Epoch 85/150\t Time: 0.219\t Loss: 0.01993533\n",
            "  Epoch 86/150\t Time: 0.214\t Loss: 0.01956879\n",
            "  Epoch 87/150\t Time: 0.215\t Loss: 0.01920808\n",
            "  Epoch 88/150\t Time: 0.228\t Loss: 0.01885508\n",
            "  Epoch 89/150\t Time: 0.219\t Loss: 0.01851220\n",
            "  Epoch 90/150\t Time: 0.216\t Loss: 0.01817492\n",
            "  Epoch 91/150\t Time: 0.219\t Loss: 0.01784381\n",
            "  Epoch 92/150\t Time: 0.219\t Loss: 0.01752011\n",
            "  Epoch 93/150\t Time: 0.222\t Loss: 0.01719784\n",
            "  Epoch 94/150\t Time: 0.215\t Loss: 0.01688369\n",
            "  Epoch 95/150\t Time: 0.221\t Loss: 0.01657671\n",
            "  Epoch 96/150\t Time: 0.217\t Loss: 0.01627434\n",
            "  Epoch 97/150\t Time: 0.223\t Loss: 0.01598121\n",
            "  Epoch 98/150\t Time: 0.223\t Loss: 0.01569075\n",
            "  Epoch 99/150\t Time: 0.219\t Loss: 0.01540915\n",
            "  Epoch 100/150\t Time: 0.222\t Loss: 0.01513160\n",
            "  Epoch 101/150\t Time: 0.215\t Loss: 0.01486107\n",
            "  Epoch 102/150\t Time: 0.228\t Loss: 0.01459596\n",
            "  Epoch 103/150\t Time: 0.224\t Loss: 0.01433692\n",
            "  Epoch 104/150\t Time: 0.213\t Loss: 0.01408440\n",
            "  Epoch 105/150\t Time: 0.214\t Loss: 0.01383583\n",
            "  Epoch 106/150\t Time: 0.216\t Loss: 0.01359607\n",
            "  Epoch 107/150\t Time: 0.221\t Loss: 0.01336239\n",
            "  Epoch 108/150\t Time: 0.213\t Loss: 0.01313437\n",
            "  Epoch 109/150\t Time: 0.214\t Loss: 0.01291432\n",
            "  Epoch 110/150\t Time: 0.214\t Loss: 0.01269905\n",
            "  Epoch 111/150\t Time: 0.211\t Loss: 0.01248494\n",
            "  Epoch 112/150\t Time: 0.222\t Loss: 0.01227678\n",
            "  Epoch 113/150\t Time: 0.219\t Loss: 0.01207609\n",
            "  Epoch 114/150\t Time: 0.215\t Loss: 0.01187799\n",
            "  Epoch 115/150\t Time: 0.218\t Loss: 0.01168797\n",
            "  Epoch 116/150\t Time: 0.223\t Loss: 0.01150475\n",
            "  Epoch 117/150\t Time: 0.217\t Loss: 0.01132460\n",
            "  Epoch 118/150\t Time: 0.216\t Loss: 0.01115035\n",
            "  Epoch 119/150\t Time: 0.214\t Loss: 0.01097935\n",
            "  Epoch 120/150\t Time: 0.219\t Loss: 0.01081341\n",
            "  Epoch 121/150\t Time: 0.226\t Loss: 0.01065126\n",
            "  Epoch 122/150\t Time: 0.217\t Loss: 0.01049136\n",
            "  Epoch 123/150\t Time: 0.215\t Loss: 0.01033541\n",
            "  Epoch 124/150\t Time: 0.214\t Loss: 0.01018672\n",
            "  Epoch 125/150\t Time: 0.235\t Loss: 0.01004156\n",
            "  Epoch 126/150\t Time: 0.223\t Loss: 0.00989859\n",
            "  Epoch 127/150\t Time: 0.229\t Loss: 0.00976158\n",
            "  Epoch 128/150\t Time: 0.214\t Loss: 0.00962593\n",
            "  Epoch 129/150\t Time: 0.216\t Loss: 0.00949568\n",
            "  Epoch 130/150\t Time: 0.224\t Loss: 0.00936699\n",
            "  Epoch 131/150\t Time: 0.218\t Loss: 0.00924026\n",
            "  Epoch 132/150\t Time: 0.222\t Loss: 0.00911776\n",
            "  Epoch 133/150\t Time: 0.215\t Loss: 0.00899799\n",
            "  Epoch 134/150\t Time: 0.216\t Loss: 0.00887961\n",
            "  Epoch 135/150\t Time: 0.228\t Loss: 0.00876364\n",
            "  Epoch 136/150\t Time: 0.216\t Loss: 0.00865076\n",
            "  Epoch 137/150\t Time: 0.219\t Loss: 0.00854072\n",
            "  Epoch 138/150\t Time: 0.213\t Loss: 0.00843468\n",
            "  Epoch 139/150\t Time: 0.222\t Loss: 0.00832945\n",
            "  Epoch 140/150\t Time: 0.217\t Loss: 0.00822669\n",
            "  Epoch 141/150\t Time: 0.221\t Loss: 0.00812873\n",
            "  Epoch 142/150\t Time: 0.222\t Loss: 0.00803102\n",
            "  Epoch 143/150\t Time: 0.225\t Loss: 0.00793558\n",
            "  Epoch 144/150\t Time: 0.222\t Loss: 0.00784153\n",
            "  Epoch 145/150\t Time: 0.219\t Loss: 0.00775197\n",
            "  Epoch 146/150\t Time: 0.229\t Loss: 0.00766013\n",
            "  Epoch 147/150\t Time: 0.223\t Loss: 0.00757281\n",
            "  Epoch 148/150\t Time: 0.233\t Loss: 0.00748728\n",
            "  Epoch 149/150\t Time: 0.219\t Loss: 0.00740507\n",
            "  Epoch 150/150\t Time: 0.224\t Loss: 0.00732376\n"
          ]
        }
      ]
    },
    {
      "cell_type": "markdown",
      "source": [
        "# 評価"
      ],
      "metadata": {
        "id": "7aUOSZRfHUAK"
      }
    },
    {
      "cell_type": "code",
      "source": [
        "deep_SVDD.test(valid_dataset, device=\"cuda\", n_jobs_dataloader=0)"
      ],
      "metadata": {
        "id": "F4cSSTqGPPra"
      },
      "execution_count": null,
      "outputs": []
    },
    {
      "cell_type": "code",
      "source": [
        "labels, scores = zip(*deep_SVDD.results['test_scores'])"
      ],
      "metadata": {
        "id": "mrxpGUwJS5qP"
      },
      "execution_count": null,
      "outputs": []
    },
    {
      "cell_type": "code",
      "source": [
        "labels, scores = np.array(labels), np.array(scores)"
      ],
      "metadata": {
        "id": "9Aa74UMp_dLz"
      },
      "execution_count": null,
      "outputs": []
    },
    {
      "cell_type": "code",
      "source": [
        "valid[\"pred\"] = labels\n",
        "valid[\"pred_score\"] = scores\n"
      ],
      "metadata": {
        "id": "IPCzHSM8UUPf",
        "colab": {
          "base_uri": "https://localhost:8080/"
        },
        "outputId": "b451d4c0-cd15-479d-d14b-abe038e163c4"
      },
      "execution_count": null,
      "outputs": [
        {
          "output_type": "stream",
          "name": "stderr",
          "text": [
            "/usr/local/lib/python3.7/dist-packages/ipykernel_launcher.py:1: SettingWithCopyWarning: \n",
            "A value is trying to be set on a copy of a slice from a DataFrame.\n",
            "Try using .loc[row_indexer,col_indexer] = value instead\n",
            "\n",
            "See the caveats in the documentation: https://pandas.pydata.org/pandas-docs/stable/user_guide/indexing.html#returning-a-view-versus-a-copy\n",
            "  \"\"\"Entry point for launching an IPython kernel.\n",
            "/usr/local/lib/python3.7/dist-packages/ipykernel_launcher.py:2: SettingWithCopyWarning: \n",
            "A value is trying to be set on a copy of a slice from a DataFrame.\n",
            "Try using .loc[row_indexer,col_indexer] = value instead\n",
            "\n",
            "See the caveats in the documentation: https://pandas.pydata.org/pandas-docs/stable/user_guide/indexing.html#returning-a-view-versus-a-copy\n",
            "  \n"
          ]
        }
      ]
    },
    {
      "cell_type": "code",
      "source": [
        "def aucPerformance(mse, labels):\n",
        "    roc_auc = roc_auc_score(labels, mse)\n",
        "    ap = average_precision_score(labels, mse)\n",
        "    print(\"AUC-ROC: %.4f, AUC-PR: %.4f\" % (roc_auc, ap))\n",
        "    return roc_auc, ap;"
      ],
      "metadata": {
        "id": "a0gQV0uLC4wB"
      },
      "execution_count": null,
      "outputs": []
    },
    {
      "cell_type": "code",
      "source": [
        "aucPerformance(valid[\"pred_score\"], valid[\"pred\"])"
      ],
      "metadata": {
        "colab": {
          "base_uri": "https://localhost:8080/"
        },
        "id": "sHKAzT6LC8Oj",
        "outputId": "c71b78ef-f500-407b-e17e-1c55755f7445"
      },
      "execution_count": null,
      "outputs": [
        {
          "output_type": "stream",
          "name": "stdout",
          "text": [
            "AUC-ROC: 0.6873, AUC-PR: 0.6977\n"
          ]
        },
        {
          "output_type": "execute_result",
          "data": {
            "text/plain": [
              "(0.6872879999999999, 0.6976748587551087)"
            ]
          },
          "metadata": {},
          "execution_count": 94
        }
      ]
    },
    {
      "cell_type": "code",
      "source": [
        "tpr, fpr, thres = roc_curve(valid[\"pred\"], valid[\"pred_score\"])"
      ],
      "metadata": {
        "id": "hykU8rHvALk5"
      },
      "execution_count": null,
      "outputs": []
    }
  ]
}